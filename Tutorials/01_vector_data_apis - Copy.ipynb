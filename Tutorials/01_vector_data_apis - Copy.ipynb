{
 "cells": [
  {
   "cell_type": "markdown",
   "metadata": {},
   "source": [
    "# 01. Describing and visualizing data"
   ]
  },
  {
   "cell_type": "markdown",
   "metadata": {},
   "source": [
    "## Getting Started\n",
    "\n",
    "- Download MapPLUTO data from [NYC DCP](https://s-media.nyc.gov/agencies/dcp/assets/files/zip/data-tools/bytes/nyc_mappluto_24v1_1_shp.zip). Place the unzipped contents in the `Data` directory at the root of this repository.\n",
    "- Unzip the file and place contents in the `Data` directory at the root of this repo\n",
    "- Make sure you have installed all requisite libraries by running `pip install -r requirements.txt` **_with your virtual environment activated_**. For guidance on setting up or activating your virtual environment, refer to the notes in [00_Getting_started](00_Getting_started.md).\n",
    "\n",
    "## Goals\n",
    "- Download data from NYC DCP's open data portal\n",
    "- Load data from file\n",
    "- Explore spatial and non-spatial elements of the dataset\n",
    "- Visualize spatial and non-spatial elements of the dataset \n"
   ]
  },
  {
   "cell_type": "markdown",
   "metadata": {},
   "source": [
    "The following libraries will allow us to import and explore our data. Note that in some cases we import the entire library and even use a short-hand reference (e.g. `import geopandas as gpd`), while in other cases we only import submodules (e.g. `from lonboard._layer import PolygonLayer`). This is largely a matter of preference, but importing submodules can help reduce memory usage and improve performance, especially when working with large datasets or in an app you've developed."
   ]
  },
  {
   "cell_type": "code",
   "execution_count": 1,
   "metadata": {},
   "outputs": [],
   "source": [
    "# the bare minimum\n",
    "import matplotlib.pyplot as plt  # for plotting\n",
    "import geopandas as gpd  # for geospatial data handling\n",
    "from matplotlib.lines import Line2D\n",
    "\n",
    "# more advanced\n",
    "from lonboard._map import Map\n",
    "from lonboard._layer import PolygonLayer  # for mapping in 3D\n",
    "from lonboard.colormap import (\n",
    "    apply_categorical_cmap,\n",
    "    apply_continuous_cmap,\n",
    ")  # for assigning colors\n",
    "from palettable.colorbrewer.sequential import PuRd_9  # for color palettes\n",
    "from matplotlib.colors import LogNorm  # for logarithmic normalization\n",
    "import pygwalker as pyg  # for creating interactive data visualizations"
   ]
  },
  {
   "cell_type": "markdown",
   "metadata": {},
   "source": [
    "# Load PLUTO data\n"
   ]
  },
  {
   "cell_type": "markdown",
   "metadata": {},
   "source": [
    "MapPLUTO is New York City's tax lot database, which contains detailed information about the city's land parcels, including their size, zoning, and ownership. The dataset is updated quarterly and is a foundational resource for understanding the city's built environment.\n",
    "\n",
    "Here, we create a variable (`pluto`) and use geopandas to read the file into memory. We use a \"relative\" path to reference the file.\n"
   ]
  },
  {
   "cell_type": "code",
   "execution_count": 2,
   "metadata": {},
   "outputs": [
    {
     "name": "stderr",
     "output_type": "stream",
     "text": [
      "/tmp/ipykernel_5935/2689415157.py:3: DtypeWarning: Columns (22) have mixed types. Specify dtype option on import or set low_memory=False.\n",
      "  pluto = pd.read_csv(\"../Data/boston.csv\")\n"
     ]
    }
   ],
   "source": [
    "import pandas as pd\n",
    "\n",
    "pluto = pd.read_csv(\"../Data/boston.csv\")\n"
   ]
  },
  {
   "cell_type": "markdown",
   "metadata": {},
   "source": [
    "# Basic exploration\n"
   ]
  },
  {
   "cell_type": "markdown",
   "metadata": {},
   "source": [
    "A great way to familiarize yourself with a dataset is to look\n",
    "at the first few rows. Scroll to the right- you'll see an\n",
    "ellipsis (`...`) indicating that there are more columns (there\n",
    "are 95!). The rightmost column is the geometry, which contains the\n",
    "spatial information for each row. That's what we'll use to map\n",
    "later, but all of the other information contains data that can help\n",
    "us gain a deeper understanding of the dataset."
   ]
  },
  {
   "cell_type": "code",
   "execution_count": 3,
   "metadata": {},
   "outputs": [
    {
     "data": {
      "text/html": [
       "<div>\n",
       "<style scoped>\n",
       "    .dataframe tbody tr th:only-of-type {\n",
       "        vertical-align: middle;\n",
       "    }\n",
       "\n",
       "    .dataframe tbody tr th {\n",
       "        vertical-align: top;\n",
       "    }\n",
       "\n",
       "    .dataframe thead th {\n",
       "        text-align: right;\n",
       "    }\n",
       "</style>\n",
       "<table border=\"1\" class=\"dataframe\">\n",
       "  <thead>\n",
       "    <tr style=\"text-align: right;\">\n",
       "      <th></th>\n",
       "      <th>_id</th>\n",
       "      <th>PID</th>\n",
       "      <th>CM_ID</th>\n",
       "      <th>GIS_ID</th>\n",
       "      <th>ST_NUM</th>\n",
       "      <th>ST_NUM2</th>\n",
       "      <th>ST_NAME</th>\n",
       "      <th>UNIT_NUM</th>\n",
       "      <th>CITY</th>\n",
       "      <th>ZIP_CODE</th>\n",
       "      <th>...</th>\n",
       "      <th>KITCHEN_STYLE2</th>\n",
       "      <th>KITCHEN_STYLE3</th>\n",
       "      <th>HEAT_TYPE</th>\n",
       "      <th>HEAT_SYSTEM</th>\n",
       "      <th>AC_TYPE</th>\n",
       "      <th>FIREPLACES</th>\n",
       "      <th>ORIENTATION</th>\n",
       "      <th>NUM_PARKING</th>\n",
       "      <th>PROP_VIEW</th>\n",
       "      <th>CORNER_UNIT</th>\n",
       "    </tr>\n",
       "  </thead>\n",
       "  <tbody>\n",
       "    <tr>\n",
       "      <th>0</th>\n",
       "      <td>1</td>\n",
       "      <td>100001000</td>\n",
       "      <td>NaN</td>\n",
       "      <td>100001000</td>\n",
       "      <td>104.0</td>\n",
       "      <td>NaN</td>\n",
       "      <td>PUTNAM ST</td>\n",
       "      <td>NaN</td>\n",
       "      <td>EAST BOSTON</td>\n",
       "      <td>2128.0</td>\n",
       "      <td>...</td>\n",
       "      <td>S - Semi-Modern</td>\n",
       "      <td>S - Semi-Modern</td>\n",
       "      <td>W - Ht Water/Steam</td>\n",
       "      <td>NaN</td>\n",
       "      <td>N - None</td>\n",
       "      <td>0.0</td>\n",
       "      <td>NaN</td>\n",
       "      <td>3.0</td>\n",
       "      <td>A - Average</td>\n",
       "      <td>NaN</td>\n",
       "    </tr>\n",
       "    <tr>\n",
       "      <th>1</th>\n",
       "      <td>2</td>\n",
       "      <td>100002000</td>\n",
       "      <td>NaN</td>\n",
       "      <td>100002000</td>\n",
       "      <td>197.0</td>\n",
       "      <td>NaN</td>\n",
       "      <td>Lexington ST</td>\n",
       "      <td>NaN</td>\n",
       "      <td>EAST BOSTON</td>\n",
       "      <td>2128.0</td>\n",
       "      <td>...</td>\n",
       "      <td>M - Modern</td>\n",
       "      <td>M - Modern</td>\n",
       "      <td>F - Forced Hot Air</td>\n",
       "      <td>NaN</td>\n",
       "      <td>C - Central AC</td>\n",
       "      <td>0.0</td>\n",
       "      <td>NaN</td>\n",
       "      <td>0.0</td>\n",
       "      <td>A - Average</td>\n",
       "      <td>NaN</td>\n",
       "    </tr>\n",
       "    <tr>\n",
       "      <th>2</th>\n",
       "      <td>3</td>\n",
       "      <td>100003000</td>\n",
       "      <td>NaN</td>\n",
       "      <td>100003000</td>\n",
       "      <td>199.0</td>\n",
       "      <td>NaN</td>\n",
       "      <td>Lexington ST</td>\n",
       "      <td>NaN</td>\n",
       "      <td>EAST BOSTON</td>\n",
       "      <td>2128.0</td>\n",
       "      <td>...</td>\n",
       "      <td>S - Semi-Modern</td>\n",
       "      <td>S - Semi-Modern</td>\n",
       "      <td>S - Space Heat</td>\n",
       "      <td>NaN</td>\n",
       "      <td>N - None</td>\n",
       "      <td>0.0</td>\n",
       "      <td>NaN</td>\n",
       "      <td>0.0</td>\n",
       "      <td>A - Average</td>\n",
       "      <td>NaN</td>\n",
       "    </tr>\n",
       "    <tr>\n",
       "      <th>3</th>\n",
       "      <td>4</td>\n",
       "      <td>100004000</td>\n",
       "      <td>NaN</td>\n",
       "      <td>100004000</td>\n",
       "      <td>201.0</td>\n",
       "      <td>NaN</td>\n",
       "      <td>Lexington ST</td>\n",
       "      <td>NaN</td>\n",
       "      <td>EAST BOSTON</td>\n",
       "      <td>2128.0</td>\n",
       "      <td>...</td>\n",
       "      <td>S - Semi-Modern</td>\n",
       "      <td>S - Semi-Modern</td>\n",
       "      <td>W - Ht Water/Steam</td>\n",
       "      <td>NaN</td>\n",
       "      <td>N - None</td>\n",
       "      <td>0.0</td>\n",
       "      <td>NaN</td>\n",
       "      <td>0.0</td>\n",
       "      <td>A - Average</td>\n",
       "      <td>NaN</td>\n",
       "    </tr>\n",
       "    <tr>\n",
       "      <th>4</th>\n",
       "      <td>5</td>\n",
       "      <td>100005000</td>\n",
       "      <td>NaN</td>\n",
       "      <td>100005000</td>\n",
       "      <td>203.0</td>\n",
       "      <td>NaN</td>\n",
       "      <td>Lexington ST</td>\n",
       "      <td>NaN</td>\n",
       "      <td>EAST BOSTON</td>\n",
       "      <td>2128.0</td>\n",
       "      <td>...</td>\n",
       "      <td>N - No Remodeling</td>\n",
       "      <td>S - Semi-Modern</td>\n",
       "      <td>W - Ht Water/Steam</td>\n",
       "      <td>NaN</td>\n",
       "      <td>N - None</td>\n",
       "      <td>0.0</td>\n",
       "      <td>NaN</td>\n",
       "      <td>0.0</td>\n",
       "      <td>A - Average</td>\n",
       "      <td>NaN</td>\n",
       "    </tr>\n",
       "  </tbody>\n",
       "</table>\n",
       "<p>5 rows × 67 columns</p>\n",
       "</div>"
      ],
      "text/plain": [
       "   _id        PID  CM_ID     GIS_ID  ST_NUM  ST_NUM2       ST_NAME UNIT_NUM  \\\n",
       "0    1  100001000    NaN  100001000   104.0      NaN     PUTNAM ST      NaN   \n",
       "1    2  100002000    NaN  100002000   197.0      NaN  Lexington ST      NaN   \n",
       "2    3  100003000    NaN  100003000   199.0      NaN  Lexington ST      NaN   \n",
       "3    4  100004000    NaN  100004000   201.0      NaN  Lexington ST      NaN   \n",
       "4    5  100005000    NaN  100005000   203.0      NaN  Lexington ST      NaN   \n",
       "\n",
       "          CITY  ZIP_CODE  ...     KITCHEN_STYLE2   KITCHEN_STYLE3  \\\n",
       "0  EAST BOSTON    2128.0  ...    S - Semi-Modern  S - Semi-Modern   \n",
       "1  EAST BOSTON    2128.0  ...         M - Modern       M - Modern   \n",
       "2  EAST BOSTON    2128.0  ...    S - Semi-Modern  S - Semi-Modern   \n",
       "3  EAST BOSTON    2128.0  ...    S - Semi-Modern  S - Semi-Modern   \n",
       "4  EAST BOSTON    2128.0  ...  N - No Remodeling  S - Semi-Modern   \n",
       "\n",
       "            HEAT_TYPE HEAT_SYSTEM         AC_TYPE FIREPLACES ORIENTATION  \\\n",
       "0  W - Ht Water/Steam         NaN        N - None        0.0         NaN   \n",
       "1  F - Forced Hot Air         NaN  C - Central AC        0.0         NaN   \n",
       "2      S - Space Heat         NaN        N - None        0.0         NaN   \n",
       "3  W - Ht Water/Steam         NaN        N - None        0.0         NaN   \n",
       "4  W - Ht Water/Steam         NaN        N - None        0.0         NaN   \n",
       "\n",
       "  NUM_PARKING    PROP_VIEW CORNER_UNIT  \n",
       "0         3.0  A - Average         NaN  \n",
       "1         0.0  A - Average         NaN  \n",
       "2         0.0  A - Average         NaN  \n",
       "3         0.0  A - Average         NaN  \n",
       "4         0.0  A - Average         NaN  \n",
       "\n",
       "[5 rows x 67 columns]"
      ]
     },
     "execution_count": 3,
     "metadata": {},
     "output_type": "execute_result"
    }
   ],
   "source": [
    "pluto.head()"
   ]
  },
  {
   "cell_type": "markdown",
   "metadata": {},
   "source": [
    "First, let's get a sense of what columns are available in the dataset."
   ]
  },
  {
   "cell_type": "code",
   "execution_count": 4,
   "metadata": {},
   "outputs": [
    {
     "data": {
      "text/plain": [
       "Index(['_id', 'PID', 'CM_ID', 'GIS_ID', 'ST_NUM', 'ST_NUM2', 'ST_NAME',\n",
       "       'UNIT_NUM', 'CITY', 'ZIP_CODE', 'BLDG_SEQ', 'NUM_BLDGS', 'LUC', 'LU',\n",
       "       'LU_DESC', 'BLDG_TYPE', 'OWN_OCC', 'OWNER', 'MAIL_ADDRESSEE',\n",
       "       'MAIL_STREET_ADDRESS', 'MAIL_CITY', 'MAIL_STATE', 'MAIL_ZIP_CODE',\n",
       "       'RES_FLOOR', 'CD_FLOOR', 'RES_UNITS', 'COM_UNITS', 'RC_UNITS',\n",
       "       'LAND_SF', 'GROSS_AREA', 'LIVING_AREA', 'LAND_VALUE', 'BLDG_VALUE',\n",
       "       'SFYI_VALUE', 'TOTAL_VALUE', 'GROSS_TAX', 'YR_BUILT', 'YR_REMODEL',\n",
       "       'STRUCTURE_CLASS', 'ROOF_STRUCTURE', 'ROOF_COVER', 'INT_WALL',\n",
       "       'EXT_FNISHED', 'INT_COND', 'EXT_COND', 'OVERALL_COND', 'BED_RMS',\n",
       "       'FULL_BTH', 'HLF_BTH', 'KITCHENS', 'TT_RMS', 'BDRM_COND',\n",
       "       'BTHRM_STYLE1', 'BTHRM_STYLE2', 'BTHRM_STYLE3', 'KITCHEN_TYPE',\n",
       "       'KITCHEN_STYLE1', 'KITCHEN_STYLE2', 'KITCHEN_STYLE3', 'HEAT_TYPE',\n",
       "       'HEAT_SYSTEM', 'AC_TYPE', 'FIREPLACES', 'ORIENTATION', 'NUM_PARKING',\n",
       "       'PROP_VIEW', 'CORNER_UNIT'],\n",
       "      dtype='object')"
      ]
     },
     "execution_count": 4,
     "metadata": {},
     "output_type": "execute_result"
    }
   ],
   "source": [
    "pluto.columns"
   ]
  },
  {
   "cell_type": "markdown",
   "metadata": {},
   "source": [
    "We can also check the data types of each column- we can see there are a mix of numeric (int32, int64, float64) and string (O = object) data types, as well as some geometry data (geopandas.array.GeometryDtype)."
   ]
  },
  {
   "cell_type": "code",
   "execution_count": 5,
   "metadata": {},
   "outputs": [
    {
     "data": {
      "text/plain": [
       "[dtype('int64'),\n",
       " dtype('int64'),\n",
       " dtype('float64'),\n",
       " dtype('int64'),\n",
       " dtype('float64'),\n",
       " dtype('float64'),\n",
       " dtype('O'),\n",
       " dtype('O'),\n",
       " dtype('O'),\n",
       " dtype('float64'),\n",
       " dtype('int64'),\n",
       " dtype('int64'),\n",
       " dtype('int64'),\n",
       " dtype('O'),\n",
       " dtype('O'),\n",
       " dtype('O'),\n",
       " dtype('O'),\n",
       " dtype('O'),\n",
       " dtype('O'),\n",
       " dtype('O'),\n",
       " dtype('O'),\n",
       " dtype('O'),\n",
       " dtype('O'),\n",
       " dtype('float64'),\n",
       " dtype('float64'),\n",
       " dtype('float64'),\n",
       " dtype('float64'),\n",
       " dtype('float64'),\n",
       " dtype('O'),\n",
       " dtype('float64'),\n",
       " dtype('float64'),\n",
       " dtype('O'),\n",
       " dtype('O'),\n",
       " dtype('O'),\n",
       " dtype('O'),\n",
       " dtype('O'),\n",
       " dtype('float64'),\n",
       " dtype('float64'),\n",
       " dtype('O'),\n",
       " dtype('O'),\n",
       " dtype('O'),\n",
       " dtype('O'),\n",
       " dtype('O'),\n",
       " dtype('O'),\n",
       " dtype('O'),\n",
       " dtype('O'),\n",
       " dtype('float64'),\n",
       " dtype('float64'),\n",
       " dtype('float64'),\n",
       " dtype('float64'),\n",
       " dtype('float64'),\n",
       " dtype('O'),\n",
       " dtype('O'),\n",
       " dtype('O'),\n",
       " dtype('O'),\n",
       " dtype('O'),\n",
       " dtype('O'),\n",
       " dtype('O'),\n",
       " dtype('O'),\n",
       " dtype('O'),\n",
       " dtype('O'),\n",
       " dtype('O'),\n",
       " dtype('float64'),\n",
       " dtype('O'),\n",
       " dtype('float64'),\n",
       " dtype('O'),\n",
       " dtype('O')]"
      ]
     },
     "execution_count": 5,
     "metadata": {},
     "output_type": "execute_result"
    }
   ],
   "source": [
    "list(pluto.dtypes)"
   ]
  },
  {
   "cell_type": "markdown",
   "metadata": {},
   "source": [
    "## Exploring a categorical column\n"
   ]
  },
  {
   "cell_type": "code",
   "execution_count": 8,
   "metadata": {},
   "outputs": [
    {
     "data": {
      "text/plain": [
       "HEAT_SYSTEM\n",
       "I - Indiv. Cntrl      45341\n",
       "Y - Self Contained    19247\n",
       "C - Common             8041\n",
       "N - None                967\n",
       "1                        58\n",
       "Name: count, dtype: int64"
      ]
     },
     "execution_count": 8,
     "metadata": {},
     "output_type": "execute_result"
    }
   ],
   "source": [
    "pluto.HEAT_SYSTEM.value_counts()"
   ]
  },
  {
   "cell_type": "code",
   "execution_count": 18,
   "metadata": {},
   "outputs": [
    {
     "data": {
      "text/plain": [
       "BLDG_TYPE\n",
       "RM - Row Middle                 17765\n",
       "CL - Colonial                   16784\n",
       "LR - Low Rise                   15802\n",
       "MR - Mid Rise                   15466\n",
       "DK - Decker                     14621\n",
       "                                ...  \n",
       "154 - APT 4BR units                 1\n",
       "382 - STABLE(S)                     1\n",
       "417 - DAIRY                         1\n",
       "943 - COMPUTER /SCIENCE LAB         1\n",
       "436 - STUDIO /Remote Control        1\n",
       "Name: count, Length: 202, dtype: int64"
      ]
     },
     "execution_count": 18,
     "metadata": {},
     "output_type": "execute_result"
    }
   ],
   "source": [
    "# a great way to get a sense of a field is to look at\n",
    "# the frequency of values in a categorical field.\n",
    "# here, we look at the LandUse field, which describes the\n",
    "# type of land use for each property in the dataset.\n",
    "pluto.BLDG_TYPE.value_counts()"
   ]
  },
  {
   "cell_type": "markdown",
   "metadata": {},
   "source": [
    "🧐 What do those numbers mean? Let's look at the [data dictionary](https://s-media.nyc.gov/agencies/dcp/assets/files/pdf/data-tools/bytes/meta_mappluto.pdf)\n"
   ]
  },
  {
   "cell_type": "code",
   "execution_count": 20,
   "metadata": {},
   "outputs": [],
   "source": [
    "# now we can remap the numbers into something more meaningful\n",
    "\n",
    "BLDG_TYPE_codes = {\n",
    "    \"01\": \"One & Two Family Buildings\",\n",
    "    \"02\": \"TWO-FAM DWELLING\",\n",
    "    \"03\": \"THREE-FAM DWELLING\",\n",
    "    \"04\": \"CONDO MAIN\",\n",
    "    \"05\": \"COMMERCIAL\",\n",
    "    \"06\": \"INDUSTRIAL\",\n",
    "    \"07\": \"TRANSPORTATION\",\n",
    "    \"08\": \"PUBLIC FACILITIES\",\n",
    "    \"09\": \"OPEN SPACE\",\n",
    "    \"10\": \"PARKING FACILITIES\",\n",
    "    \"11\": \"VACANT LAND\",\n",
    "}"
   ]
  },
  {
   "cell_type": "markdown",
   "metadata": {},
   "source": [
    "We can \"map\" the Land Use codes to more descriptive names. \n",
    "the `map()` function will replace instances of the \"key\" with the corresponding \"value\" in the dictionary."
   ]
  },
  {
   "cell_type": "code",
   "execution_count": 21,
   "metadata": {},
   "outputs": [],
   "source": [
    "pluto[\"BLDG_TYPE\"] = pluto.BLDG_TYPE.map(BLDG_TYPE_codes)"
   ]
  },
  {
   "cell_type": "code",
   "execution_count": null,
   "metadata": {},
   "outputs": [],
   "source": []
  },
  {
   "cell_type": "code",
   "execution_count": 22,
   "metadata": {},
   "outputs": [
    {
     "data": {
      "text/plain": [
       "Series([], Name: count, dtype: int64)"
      ]
     },
     "execution_count": 22,
     "metadata": {},
     "output_type": "execute_result"
    }
   ],
   "source": [
    "# now when we perform operations on the LandUse field,\n",
    "# we can use the more meaningful names.\n",
    "# let's look at the frequency of values in the LandUse field again\n",
    "pluto.BLDG_TYPE.value_counts()"
   ]
  },
  {
   "cell_type": "markdown",
   "metadata": {
    "vscode": {
     "languageId": "markdown"
    }
   },
   "source": [
    "⚠️ Caution! So far we have been counting the number of rows, but not saying anything about the area of each land use type. To do so, we can sum across rows of the same type. We can use the `groupby()` function to group the data by a categorical column type and then sum the values in another column (in this case, the lot area) the area for each type.\n"
   ]
  },
  {
   "cell_type": "markdown",
   "metadata": {},
   "source": [
    "## Grouping by a categorical column\n"
   ]
  },
  {
   "cell_type": "markdown",
   "metadata": {},
   "source": [
    "Here, we are _grouping_ the data by the `landuse` column and then _summing_ the values in the `lotarea` column for each group. The result is a new DataFrame that contains the total lot area for each land use type. We can sum or manipulate multiple columns at a time, and can chain together multiple operations as you can see below.\n"
   ]
  },
  {
   "cell_type": "code",
   "execution_count": 23,
   "metadata": {},
   "outputs": [
    {
     "data": {
      "text/plain": [
       "Series([], dtype: int64)"
      ]
     },
     "execution_count": 23,
     "metadata": {},
     "output_type": "execute_result"
    }
   ],
   "source": [
    "pluto.groupby(\"BLDG_TYPE\").size().sort_values(ascending=False)"
   ]
  },
  {
   "cell_type": "code",
   "execution_count": 24,
   "metadata": {},
   "outputs": [
    {
     "data": {
      "text/html": [
       "<div>\n",
       "<style scoped>\n",
       "    .dataframe tbody tr th:only-of-type {\n",
       "        vertical-align: middle;\n",
       "    }\n",
       "\n",
       "    .dataframe tbody tr th {\n",
       "        vertical-align: top;\n",
       "    }\n",
       "\n",
       "    .dataframe thead th {\n",
       "        text-align: right;\n",
       "    }\n",
       "</style>\n",
       "<table border=\"1\" class=\"dataframe\">\n",
       "  <thead>\n",
       "    <tr style=\"text-align: right;\">\n",
       "      <th></th>\n",
       "      <th>Building Type</th>\n",
       "      <th>HEAT_SYSTEM</th>\n",
       "      <th>Average Building Area</th>\n",
       "    </tr>\n",
       "  </thead>\n",
       "  <tbody>\n",
       "  </tbody>\n",
       "</table>\n",
       "</div>"
      ],
      "text/plain": [
       "Empty DataFrame\n",
       "Columns: [Building Type, HEAT_SYSTEM, Average Building Area]\n",
       "Index: []"
      ]
     },
     "execution_count": 24,
     "metadata": {},
     "output_type": "execute_result"
    }
   ],
   "source": [
    "# more complex grouping\n",
    "# We can also use the `agg()` function to apply multiple aggregation functions to different columns at once.\n",
    "# For example, we can calculate the total lot area and the average building area for each land use type:\n",
    "landuse_summary = (\n",
    "    pluto.groupby(\"BLDG_TYPE\")\n",
    "    .agg({\"HEAT_SYSTEM\": \"sum\", \"GROSS_AREA\": \"mean\"})\n",
    "    .reset_index()\n",
    "    .rename(\n",
    "        columns={\"BLDG_TYPE\": \"Building Type\", \"GROSS_AREA\": \"Average Building Area\"},\n",
    "    )\n",
    ")\n",
    "landuse_summary"
   ]
  },
  {
   "cell_type": "markdown",
   "metadata": {},
   "source": [
    "Now let's plot the total lot area for each land use type."
   ]
  },
  {
   "cell_type": "code",
   "execution_count": null,
   "metadata": {},
   "outputs": [
    {
     "ename": "KeyError",
     "evalue": "'BldgType'",
     "output_type": "error",
     "traceback": [
      "\u001b[31m---------------------------------------------------------------------------\u001b[39m",
      "\u001b[31mKeyError\u001b[39m                                  Traceback (most recent call last)",
      "\u001b[36mCell\u001b[39m\u001b[36m \u001b[39m\u001b[32mIn[26]\u001b[39m\u001b[32m, line 3\u001b[39m\n\u001b[32m      1\u001b[39m \u001b[38;5;66;03m# there are many ways to visualize this data, and levels to refining the graphic style.\u001b[39;00m\n\u001b[32m      2\u001b[39m \u001b[38;5;66;03m# This is the simplest possible example, using matplotlib to create a bar chart\u001b[39;00m\n\u001b[32m----> \u001b[39m\u001b[32m3\u001b[39m \u001b[43mpluto\u001b[49m\u001b[43m.\u001b[49m\u001b[43mgroupby\u001b[49m\u001b[43m(\u001b[49m\u001b[33;43m\"\u001b[39;49m\u001b[33;43mBldgType\u001b[39;49m\u001b[33;43m\"\u001b[39;49m\u001b[43m)\u001b[49m[\u001b[33m\"\u001b[39m\u001b[33mGrossArea\u001b[39m\u001b[33m\"\u001b[39m].sum().sort_values(ascending=\u001b[38;5;28;01mFalse\u001b[39;00m).plot.bar()\n\u001b[32m      4\u001b[39m plt.title(\u001b[33m\"\u001b[39m\u001b[33mTotal lot area by building type\u001b[39m\u001b[33m\"\u001b[39m)\n",
      "\u001b[36mFile \u001b[39m\u001b[32m~/anaconda3/envs/cdp-gis/lib/python3.12/site-packages/pandas/core/frame.py:9183\u001b[39m, in \u001b[36mDataFrame.groupby\u001b[39m\u001b[34m(self, by, axis, level, as_index, sort, group_keys, observed, dropna)\u001b[39m\n\u001b[32m   9180\u001b[39m \u001b[38;5;28;01mif\u001b[39;00m level \u001b[38;5;129;01mis\u001b[39;00m \u001b[38;5;28;01mNone\u001b[39;00m \u001b[38;5;129;01mand\u001b[39;00m by \u001b[38;5;129;01mis\u001b[39;00m \u001b[38;5;28;01mNone\u001b[39;00m:\n\u001b[32m   9181\u001b[39m     \u001b[38;5;28;01mraise\u001b[39;00m \u001b[38;5;167;01mTypeError\u001b[39;00m(\u001b[33m\"\u001b[39m\u001b[33mYou have to supply one of \u001b[39m\u001b[33m'\u001b[39m\u001b[33mby\u001b[39m\u001b[33m'\u001b[39m\u001b[33m and \u001b[39m\u001b[33m'\u001b[39m\u001b[33mlevel\u001b[39m\u001b[33m'\u001b[39m\u001b[33m\"\u001b[39m)\n\u001b[32m-> \u001b[39m\u001b[32m9183\u001b[39m \u001b[38;5;28;01mreturn\u001b[39;00m \u001b[43mDataFrameGroupBy\u001b[49m\u001b[43m(\u001b[49m\n\u001b[32m   9184\u001b[39m \u001b[43m    \u001b[49m\u001b[43mobj\u001b[49m\u001b[43m=\u001b[49m\u001b[38;5;28;43mself\u001b[39;49m\u001b[43m,\u001b[49m\n\u001b[32m   9185\u001b[39m \u001b[43m    \u001b[49m\u001b[43mkeys\u001b[49m\u001b[43m=\u001b[49m\u001b[43mby\u001b[49m\u001b[43m,\u001b[49m\n\u001b[32m   9186\u001b[39m \u001b[43m    \u001b[49m\u001b[43maxis\u001b[49m\u001b[43m=\u001b[49m\u001b[43maxis\u001b[49m\u001b[43m,\u001b[49m\n\u001b[32m   9187\u001b[39m \u001b[43m    \u001b[49m\u001b[43mlevel\u001b[49m\u001b[43m=\u001b[49m\u001b[43mlevel\u001b[49m\u001b[43m,\u001b[49m\n\u001b[32m   9188\u001b[39m \u001b[43m    \u001b[49m\u001b[43mas_index\u001b[49m\u001b[43m=\u001b[49m\u001b[43mas_index\u001b[49m\u001b[43m,\u001b[49m\n\u001b[32m   9189\u001b[39m \u001b[43m    \u001b[49m\u001b[43msort\u001b[49m\u001b[43m=\u001b[49m\u001b[43msort\u001b[49m\u001b[43m,\u001b[49m\n\u001b[32m   9190\u001b[39m \u001b[43m    \u001b[49m\u001b[43mgroup_keys\u001b[49m\u001b[43m=\u001b[49m\u001b[43mgroup_keys\u001b[49m\u001b[43m,\u001b[49m\n\u001b[32m   9191\u001b[39m \u001b[43m    \u001b[49m\u001b[43mobserved\u001b[49m\u001b[43m=\u001b[49m\u001b[43mobserved\u001b[49m\u001b[43m,\u001b[49m\n\u001b[32m   9192\u001b[39m \u001b[43m    \u001b[49m\u001b[43mdropna\u001b[49m\u001b[43m=\u001b[49m\u001b[43mdropna\u001b[49m\u001b[43m,\u001b[49m\n\u001b[32m   9193\u001b[39m \u001b[43m\u001b[49m\u001b[43m)\u001b[49m\n",
      "\u001b[36mFile \u001b[39m\u001b[32m~/anaconda3/envs/cdp-gis/lib/python3.12/site-packages/pandas/core/groupby/groupby.py:1329\u001b[39m, in \u001b[36mGroupBy.__init__\u001b[39m\u001b[34m(self, obj, keys, axis, level, grouper, exclusions, selection, as_index, sort, group_keys, observed, dropna)\u001b[39m\n\u001b[32m   1326\u001b[39m \u001b[38;5;28mself\u001b[39m.dropna = dropna\n\u001b[32m   1328\u001b[39m \u001b[38;5;28;01mif\u001b[39;00m grouper \u001b[38;5;129;01mis\u001b[39;00m \u001b[38;5;28;01mNone\u001b[39;00m:\n\u001b[32m-> \u001b[39m\u001b[32m1329\u001b[39m     grouper, exclusions, obj = \u001b[43mget_grouper\u001b[49m\u001b[43m(\u001b[49m\n\u001b[32m   1330\u001b[39m \u001b[43m        \u001b[49m\u001b[43mobj\u001b[49m\u001b[43m,\u001b[49m\n\u001b[32m   1331\u001b[39m \u001b[43m        \u001b[49m\u001b[43mkeys\u001b[49m\u001b[43m,\u001b[49m\n\u001b[32m   1332\u001b[39m \u001b[43m        \u001b[49m\u001b[43maxis\u001b[49m\u001b[43m=\u001b[49m\u001b[43maxis\u001b[49m\u001b[43m,\u001b[49m\n\u001b[32m   1333\u001b[39m \u001b[43m        \u001b[49m\u001b[43mlevel\u001b[49m\u001b[43m=\u001b[49m\u001b[43mlevel\u001b[49m\u001b[43m,\u001b[49m\n\u001b[32m   1334\u001b[39m \u001b[43m        \u001b[49m\u001b[43msort\u001b[49m\u001b[43m=\u001b[49m\u001b[43msort\u001b[49m\u001b[43m,\u001b[49m\n\u001b[32m   1335\u001b[39m \u001b[43m        \u001b[49m\u001b[43mobserved\u001b[49m\u001b[43m=\u001b[49m\u001b[38;5;28;43;01mFalse\u001b[39;49;00m\u001b[43m \u001b[49m\u001b[38;5;28;43;01mif\u001b[39;49;00m\u001b[43m \u001b[49m\u001b[43mobserved\u001b[49m\u001b[43m \u001b[49m\u001b[38;5;129;43;01mis\u001b[39;49;00m\u001b[43m \u001b[49m\u001b[43mlib\u001b[49m\u001b[43m.\u001b[49m\u001b[43mno_default\u001b[49m\u001b[43m \u001b[49m\u001b[38;5;28;43;01melse\u001b[39;49;00m\u001b[43m \u001b[49m\u001b[43mobserved\u001b[49m\u001b[43m,\u001b[49m\n\u001b[32m   1336\u001b[39m \u001b[43m        \u001b[49m\u001b[43mdropna\u001b[49m\u001b[43m=\u001b[49m\u001b[38;5;28;43mself\u001b[39;49m\u001b[43m.\u001b[49m\u001b[43mdropna\u001b[49m\u001b[43m,\u001b[49m\n\u001b[32m   1337\u001b[39m \u001b[43m    \u001b[49m\u001b[43m)\u001b[49m\n\u001b[32m   1339\u001b[39m \u001b[38;5;28;01mif\u001b[39;00m observed \u001b[38;5;129;01mis\u001b[39;00m lib.no_default:\n\u001b[32m   1340\u001b[39m     \u001b[38;5;28;01mif\u001b[39;00m \u001b[38;5;28many\u001b[39m(ping._passed_categorical \u001b[38;5;28;01mfor\u001b[39;00m ping \u001b[38;5;129;01min\u001b[39;00m grouper.groupings):\n",
      "\u001b[36mFile \u001b[39m\u001b[32m~/anaconda3/envs/cdp-gis/lib/python3.12/site-packages/pandas/core/groupby/grouper.py:1043\u001b[39m, in \u001b[36mget_grouper\u001b[39m\u001b[34m(obj, key, axis, level, sort, observed, validate, dropna)\u001b[39m\n\u001b[32m   1041\u001b[39m         in_axis, level, gpr = \u001b[38;5;28;01mFalse\u001b[39;00m, gpr, \u001b[38;5;28;01mNone\u001b[39;00m\n\u001b[32m   1042\u001b[39m     \u001b[38;5;28;01melse\u001b[39;00m:\n\u001b[32m-> \u001b[39m\u001b[32m1043\u001b[39m         \u001b[38;5;28;01mraise\u001b[39;00m \u001b[38;5;167;01mKeyError\u001b[39;00m(gpr)\n\u001b[32m   1044\u001b[39m \u001b[38;5;28;01melif\u001b[39;00m \u001b[38;5;28misinstance\u001b[39m(gpr, Grouper) \u001b[38;5;129;01mand\u001b[39;00m gpr.key \u001b[38;5;129;01mis\u001b[39;00m \u001b[38;5;129;01mnot\u001b[39;00m \u001b[38;5;28;01mNone\u001b[39;00m:\n\u001b[32m   1045\u001b[39m     \u001b[38;5;66;03m# Add key to exclusions\u001b[39;00m\n\u001b[32m   1046\u001b[39m     exclusions.add(gpr.key)\n",
      "\u001b[31mKeyError\u001b[39m: 'BldgType'"
     ]
    }
   ],
   "source": [
    "# there are many ways to visualize this data, and levels to refining the graphic style.\n",
    "# This is the simplest possible example, using matplotlib to create a bar chart\n",
    "pluto.groupby(\"BldgType\")[\"GrossArea\"].sum().sort_values(ascending=False).plot.bar()\n",
    "plt.title(\"Total lot area by building type\")"
   ]
  },
  {
   "cell_type": "code",
   "execution_count": 16,
   "metadata": {},
   "outputs": [
    {
     "data": {
      "text/plain": [
       "Text(0.5, 1.0, 'Total building area by land use type')"
      ]
     },
     "execution_count": 16,
     "metadata": {},
     "output_type": "execute_result"
    },
    {
     "data": {
      "image/png": "[encoded data removed]",
      "text/plain": [
       "<Figure size 640x480 with 1 Axes>"
      ]
     },
     "metadata": {},
     "output_type": "display_data"
    }
   ],
   "source": [
    "# now the same but for building area - note this is total building area, not average\n",
    "pluto.groupby(\"LandUse\").BldgArea.sum().sort_values(ascending=False).plot.bar()\n",
    "plt.title(\"Total building area by land use type\")"
   ]
  },
  {
   "cell_type": "markdown",
   "metadata": {},
   "source": [
    "Below is a more complicated example where we can plot two variables against each other to compare.\n",
    "\n",
    "Note how we are manipulating a \"figure\" (`fig`) and \"axes\" (`ax`) object to create a more complex plot. This is a common pattern in data visualization libraries like Matplotlib and Seaborn, where you can create a figure and then add multiple axes to it, each with its own plot. You can see several invocations of `ax` where we set various properties. \n",
    "\n",
    "We also use two copies of our pluto dataset as inputs - note how each copy is aggregated over a different variable. "
   ]
  },
  {
   "cell_type": "code",
   "execution_count": 17,
   "metadata": {},
   "outputs": [
    {
     "data": {
      "text/plain": [
       "<matplotlib.legend.Legend at 0x7a42e137a6f0>"
      ]
     },
     "execution_count": 17,
     "metadata": {},
     "output_type": "execute_result"
    },
    {
     "data": {
      "image/png": "[encoded data removed]",
      "text/plain": [
       "<Figure size 640x480 with 2 Axes>"
      ]
     },
     "metadata": {},
     "output_type": "display_data"
    }
   ],
   "source": [
    "# plot both lot and building area on the same plot with a secondary y-axis\n",
    "fig, ax = plt.subplots()\n",
    "by_lot_area = pluto.groupby(\"LandUse\").LotArea.sum().sort_values(ascending=False)\n",
    "\n",
    "by_lot_area.plot.bar(ax=ax, color=\"orange\")\n",
    "\n",
    "# get order to apply below\n",
    "order = {v: i for i, v in enumerate(by_lot_area.index)}\n",
    "\n",
    "ax.set_ylabel(\"Lot Area\")\n",
    "ax.set_xlabel(\"Land Use Type\")\n",
    "\n",
    "ax2 = ax.twinx()\n",
    "pluto.groupby(\"LandUse\").BldgArea.sum().reindex(by_lot_area.index).plot.bar(\n",
    "    ax=ax2, edgecolor=\"black\", color=\"none\"\n",
    ")\n",
    "ax2.set_ylabel(\"Building Area\")\n",
    "\n",
    "plt.title(\"Total lot and building area by land use type\")\n",
    "\n",
    "# add legends\n",
    "ax.legend([\"Lot Area\"], loc=\"upper left\")\n",
    "ax2.legend([\"Building Area\"], loc=\"upper right\")"
   ]
  },
  {
   "cell_type": "markdown",
   "metadata": {},
   "source": [
    "## numeric column\n"
   ]
  },
  {
   "cell_type": "markdown",
   "metadata": {},
   "source": [
    "We can use the `describe()` function to get a summary of the numeric columns in the dataset."
   ]
  },
  {
   "cell_type": "code",
   "execution_count": 18,
   "metadata": {},
   "outputs": [
    {
     "data": {
      "text/plain": [
       "count    856734.000000\n",
       "mean          2.362320\n",
       "std           2.053639\n",
       "min           0.000000\n",
       "25%           2.000000\n",
       "50%           2.000000\n",
       "75%           2.500000\n",
       "max         342.870000\n",
       "Name: NumFloors, dtype: float64"
      ]
     },
     "execution_count": 18,
     "metadata": {},
     "output_type": "execute_result"
    }
   ],
   "source": [
    "pluto[\"NumFloors\"].describe()"
   ]
  },
  {
   "cell_type": "code",
   "execution_count": 19,
   "metadata": {},
   "outputs": [
    {
     "data": {
      "image/png": "[encoded data removed]",
      "text/plain": [
       "<Figure size 1000x600 with 1 Axes>"
      ]
     },
     "metadata": {},
     "output_type": "display_data"
    }
   ],
   "source": [
    "# We can see that the average number of floors is 2.35, but the maximum is 104! and that the majority of buildings have 1-3 floors.\n",
    "# Let's visualize the distribution of the number of floors using a histogram\n",
    "plt.figure(figsize=(10, 6))\n",
    "pluto[\"NumFloors\"].hist(bins=30, edgecolor=\"black\")\n",
    "plt.title(\"Distribution of Number of Floors\")\n",
    "plt.xlabel(\"Number of Floors\")\n",
    "plt.ylabel(\"Frequency\")\n",
    "plt.xlim(0, 20)  # limit x-axis to 20 for better visibility\n",
    "plt.xticks(range(0, 21))  # set x-ticks to integers from 0 to 20\n",
    "plt.grid(axis=\"y\", linestyle=\"--\", alpha=0.7)\n",
    "plt.show()"
   ]
  },
  {
   "cell_type": "markdown",
   "metadata": {},
   "source": [
    "### Interactive plotting"
   ]
  },
  {
   "cell_type": "markdown",
   "metadata": {},
   "source": [
    "We can use the `pygwalker` library to create an interactive visualization of the data. Especially as we are becoming familiar with the dataset, this can be a useful way to explore the data and see how different variables relate to each other."
   ]
  },
  {
   "cell_type": "code",
   "execution_count": 20,
   "metadata": {},
   "outputs": [
    {
     "data": {
      "application/vnd.jupyter.widget-view+json": {
       "model_id": "6314f8aa47f74157b4ed1c77c2bd988a",
       "version_major": 2,
       "version_minor": 0
      },
      "text/plain": [
       "Box(children=(HTML(value='\\n<div id=\"ifr-pyg-000639780c62b69b54JTDgqr6mVpLhsX\" style=\"height: auto\">\\n    <hea…"
      ]
     },
     "metadata": {},
     "output_type": "display_data"
    },
    {
     "data": {
      "text/html": [
       "<script>\n",
       "    window.addEventListener(\"message\", function(event) {\n",
       "        const backgroundMap = {\n",
       "            \"dark\": \"hsl(240 10% 3.9%)\",\n",
       "            \"light\": \"hsl(0 0 100%)\",\n",
       "        };\n",
       "        const colorMap = {\n",
       "            \"dark\": \"hsl(0 0% 98%)\",\n",
       "            \"light\": \"hsl(240 10% 3.9%)\",\n",
       "        };\n",
       "        if (event.data.action === \"changeAppearance\" && event.data.gid === \"000639780c62b69b54JTDgqr6mVpLhsX\") {\n",
       "            var iframe = document.getElementById(\"gwalker-000639780c62b69b54JTDgqr6mVpLhsX\");\n",
       "            iframe.style.background  = backgroundMap[event.data.appearance];\n",
       "            iframe.style.color = colorMap[event.data.appearance];\n",
       "        }\n",
       "    });\n",
       "</script>"
      ],
      "text/plain": [
       "<IPython.core.display.HTML object>"
      ]
     },
     "metadata": {},
     "output_type": "display_data"
    },
    {
     "data": {
      "text/html": [],
      "text/plain": [
       "<IPython.core.display.HTML object>"
      ]
     },
     "metadata": {},
     "output_type": "display_data"
    },
    {
     "data": {
      "text/plain": [
       "<pygwalker.api.pygwalker.PygWalker at 0x7a42e1adff20>"
      ]
     },
     "execution_count": 20,
     "metadata": {},
     "output_type": "execute_result"
    }
   ],
   "source": [
    "# pygwalker doesn't suppert geospatial data directly, so we need to drop the geometry column.\n",
    "# Be sure to keep a copy of the original data, we'll need it later!\n",
    "pluto_non_spatial = pluto.drop(columns=[\"geometry\"])\n",
    "\n",
    "# Invoke pygwalker, begin exploring the data interactively\n",
    "pyg.walk(pluto_non_spatial)"
   ]
  },
  {
   "cell_type": "code",
   "execution_count": null,
   "metadata": {},
   "outputs": [],
   "source": []
  },
  {
   "cell_type": "markdown",
   "metadata": {},
   "source": [
    "> ## Your turn:\n",
    "> - Take a few minutes to explore the dataset on your own.\n",
    "> - Try creating graphs that show the relationship between different variables.\n",
    "> - Let's discuss what you find or what you're exploring. "
   ]
  },
  {
   "cell_type": "markdown",
   "metadata": {},
   "source": [
    "# Mapping\n"
   ]
  },
  {
   "cell_type": "markdown",
   "metadata": {},
   "source": [
    "## Creating a static map\n"
   ]
  },
  {
   "cell_type": "code",
   "execution_count": null,
   "metadata": {},
   "outputs": [],
   "source": [
    "# In this example, we are using matplotlib to map our pluto data.\n",
    "# Under the hood, matplotlib is drawing each individual polygon (>800,000),\n",
    "# which is resource intensive and hard to discern on a map! This is a good\n",
    "# place to start, but we'll soon move on to more advanced mapping techniques.\n",
    "\n",
    "\n",
    "pluto.plot(figsize=(10, 10)).set_axis_off()\n",
    "plt.title(\"NYC MapPLUTO\")"
   ]
  },
  {
   "cell_type": "code",
   "execution_count": null,
   "metadata": {},
   "outputs": [],
   "source": [
    "cmap = {\n",
    "    \"One & Two Family Buildings\": \"#ffff00\",\n",
    "    \"Multi-Family Walk-Up Buildings\": \"#fffb00\",\n",
    "    \"Multi-Family Elevator Buildings\": \"#ffc800\",\n",
    "    \"Mixed Residential & Commercial Buildings\": \"#ff4000\",\n",
    "    \"Commercial & Office Buildings\": \"#ff0000\",\n",
    "    \"Industrial & Manufacturing\": \"#7700ff\",\n",
    "    \"Transportation & Utility\": \"#808080\",\n",
    "    \"Public Facilities & Institutions\": \"#001580\",\n",
    "    \"Open Space & Outdoor Recreation\": \"#219F21\",\n",
    "    \"Parking Facilities\": \"#A6A6AB\",\n",
    "    \"Vacant Land\": \"#222222\",\n",
    "    \"Unknown\": \"#000000\",\n",
    "}"
   ]
  },
  {
   "cell_type": "code",
   "execution_count": null,
   "metadata": {},
   "outputs": [],
   "source": [
    "pluto.fillna({\"LandUse\": \"Unknown\"}, inplace=True)"
   ]
  },
  {
   "cell_type": "code",
   "execution_count": null,
   "metadata": {},
   "outputs": [],
   "source": [
    "pluto.LandUse.unique()"
   ]
  },
  {
   "cell_type": "code",
   "execution_count": null,
   "metadata": {},
   "outputs": [],
   "source": [
    "# here we make a new column called \"color\" that maps the LandUse values to colors\n",
    "pluto[\"color\"] = pluto[\"LandUse\"].map(cmap)"
   ]
  },
  {
   "cell_type": "code",
   "execution_count": null,
   "metadata": {},
   "outputs": [],
   "source": [
    "pluto[\"color\"].unique()"
   ]
  },
  {
   "cell_type": "code",
   "execution_count": null,
   "metadata": {},
   "outputs": [],
   "source": [
    "ax = pluto.plot(\n",
    "    color=pluto[\"color\"],\n",
    "    figsize=(10, 10),\n",
    "    legend=True,\n",
    ").set_axis_off()\n",
    "plt.title(\"NYC MapPLUTO\")\n",
    "\n",
    "\n",
    "# populate legend items based on dict from above\n",
    "legend_colors = [\n",
    "    Line2D([0], [0], marker=\"o\", color=\"w\", markerfacecolor=c, markersize=10)\n",
    "    for c in cmap.values()\n",
    "]\n",
    "labels = cmap.keys()\n",
    "plt.legend(legend_colors, labels, loc=\"upper left\")"
   ]
  },
  {
   "cell_type": "markdown",
   "metadata": {},
   "source": [
    "## Your turn:\n",
    "\n",
    "- map a numeric column using a continuous colormap for Queens. See here for a list and discussion of colormaps: https://matplotlib.org/stable/tutorials/colors/colormaps.html\n",
    "- What patterns emerge?\n"
   ]
  },
  {
   "cell_type": "code",
   "execution_count": null,
   "metadata": {},
   "outputs": [],
   "source": [
    "pluto.LotArea.plot.hist(bins=100, log=True)"
   ]
  },
  {
   "cell_type": "markdown",
   "metadata": {},
   "source": [
    "# prep for interactive mapping\n"
   ]
  },
  {
   "cell_type": "code",
   "execution_count": null,
   "metadata": {},
   "outputs": [],
   "source": [
    "pluto_wgs = pluto.to_crs(\"epsg:4326\")"
   ]
  },
  {
   "cell_type": "markdown",
   "metadata": {},
   "source": [
    "## visualize a categorical variable\n"
   ]
  },
  {
   "cell_type": "code",
   "execution_count": null,
   "metadata": {},
   "outputs": [],
   "source": [
    "cmap_rgb = {k: list(int(v[i : i + 2], 16) for i in (1, 3, 5)) for k, v in cmap.items()}"
   ]
  },
  {
   "cell_type": "code",
   "execution_count": null,
   "metadata": {},
   "outputs": [],
   "source": [
    "cmap_rgb"
   ]
  },
  {
   "cell_type": "code",
   "execution_count": null,
   "metadata": {},
   "outputs": [],
   "source": [
    "len(pluto_wgs[pluto_wgs[\"LandUse\"].isna()])"
   ]
  },
  {
   "cell_type": "code",
   "execution_count": null,
   "metadata": {},
   "outputs": [],
   "source": [
    "pluto.fillna({\"LandUse\": \"Unknown\"}, inplace=True)"
   ]
  },
  {
   "cell_type": "markdown",
   "metadata": {},
   "source": [
    "## now, we can plot the data using lonboard to create an interactive map\n"
   ]
  },
  {
   "cell_type": "code",
   "execution_count": null,
   "metadata": {},
   "outputs": [],
   "source": [
    "df = pluto_wgs[[\"LandUse\", \"geometry\"]].copy()\n",
    "df[\"LandUse\"] = df[\"LandUse\"].astype(\"category\")\n",
    "\n",
    "layer = PolygonLayer.from_geopandas(\n",
    "    df[[\"LandUse\", \"geometry\"]],\n",
    "    get_fill_color=apply_categorical_cmap(\n",
    "        df[\"LandUse\"],\n",
    "        cmap=cmap_rgb,\n",
    "    ),\n",
    ")\n",
    "m = Map(layer)\n",
    "m"
   ]
  },
  {
   "cell_type": "markdown",
   "metadata": {},
   "source": [
    "## visualize a continuous variable\n"
   ]
  },
  {
   "cell_type": "code",
   "execution_count": null,
   "metadata": {},
   "outputs": [],
   "source": [
    "df = pluto_wgs[[\"NumFloors\", \"geometry\"]]\n",
    "\n",
    "normalizer = LogNorm(1, df.NumFloors.max(), clip=True)\n",
    "normalized_floors = normalizer(df.NumFloors)\n",
    "\n",
    "layer = PolygonLayer.from_geopandas(\n",
    "    df[[\"NumFloors\", \"geometry\"]],\n",
    "    get_fill_color=apply_continuous_cmap(normalized_floors, cmap=PuRd_9),\n",
    ")\n",
    "m = Map(layer)\n",
    "m"
   ]
  },
  {
   "cell_type": "code",
   "execution_count": null,
   "metadata": {},
   "outputs": [],
   "source": [
    "df = pluto_wgs[[\"NumFloors\", \"geometry\"]]\n",
    "\n",
    "normalizer = LogNorm(1, df.NumFloors.max(), clip=True)\n",
    "normalized_floors = normalizer(df.NumFloors)\n",
    "\n",
    "\n",
    "layer = PolygonLayer.from_geopandas(\n",
    "    df[[\"NumFloors\", \"geometry\"]],\n",
    "    get_fill_color=apply_continuous_cmap(normalized_floors, cmap=PuRd_9),\n",
    "    extruded=True,\n",
    "    get_elevation=pluto_wgs[\"NumFloors\"] * 14,\n",
    ")\n",
    "m = Map(\n",
    "    layer, view_state={\"longitude\": -73.97, \"latitude\": 40.73, \"zoom\": 10, \"pitch\": 45}\n",
    ")\n",
    "m"
   ]
  },
  {
   "cell_type": "code",
   "execution_count": null,
   "metadata": {},
   "outputs": [],
   "source": [
    "df = pluto_wgs[pluto_wgs.YearBuilt > 2010][[\"NumFloors\", \"geometry\"]].copy()\n",
    "\n",
    "normalizer = LogNorm(1, df.NumFloors.max(), clip=True)\n",
    "normalized_floors = normalizer(df.NumFloors)\n",
    "\n",
    "layer = PolygonLayer.from_geopandas(\n",
    "    df[[\"NumFloors\", \"geometry\"]],\n",
    "    get_fill_color=apply_continuous_cmap(normalized_floors, cmap=PuRd_9),\n",
    "    extruded=True,\n",
    "    get_elevation=df[\"NumFloors\"] * 14,\n",
    ")\n",
    "m = Map(layer)\n",
    "m"
   ]
  },
  {
   "cell_type": "code",
   "execution_count": null,
   "metadata": {},
   "outputs": [],
   "source": [
    "pluto_wgs.YearBuilt.nunique()"
   ]
  },
  {
   "cell_type": "code",
   "execution_count": null,
   "metadata": {},
   "outputs": [],
   "source": [
    "def categorize_buildings(r):\n",
    "    if r.YearBuilt < 1900:\n",
    "        return \"Pre-1900\"\n",
    "    elif r.YearBuilt < 1950:\n",
    "        return \"1900-1950\"\n",
    "    elif r.YearBuilt < 2000:\n",
    "        return \"1950-2000\"\n",
    "    else:\n",
    "        return \"Post-2000\""
   ]
  },
  {
   "cell_type": "code",
   "execution_count": null,
   "metadata": {},
   "outputs": [],
   "source": [
    "pluto_wgs[\"year_category\"] = pluto_wgs.apply(categorize_buildings, axis=1)"
   ]
  },
  {
   "cell_type": "code",
   "execution_count": null,
   "metadata": {},
   "outputs": [],
   "source": [
    "pluto_wgs.year_category.value_counts()"
   ]
  },
  {
   "cell_type": "code",
   "execution_count": null,
   "metadata": {},
   "outputs": [],
   "source": [
    "year_built_ma = {\n",
    "    \"Pre-1900\": \"[255,0,0]\",\n",
    "    \"1900-1950\": \"#00ff00\",\n",
    "    \"1950-2000\": \"#0000ff\",\n",
    "    \"Post-2000\": \"#ff00ff\",\n",
    "}"
   ]
  },
  {
   "cell_type": "code",
   "execution_count": null,
   "metadata": {},
   "outputs": [],
   "source": [
    "df = pluto_wgs[[\"year_category\", \"geometry\"]]\n",
    "\n",
    "layer = PolygonLayer.from_geopandas(\n",
    "    df[[\"year_category\", \"geometry\"]],\n",
    "    get_fill_color=apply_categorical_cmap(df[\"year_category\"], cmap=cmap_rgb),\n",
    ")\n",
    "m = Map(layer)\n",
    "m"
   ]
  },
  {
   "cell_type": "markdown",
   "metadata": {},
   "source": [
    "To read more about `lonboard` and mapping in 3d, see here for some tips: https://developmentseed.org/lonboard/latest/examples/overture-maps/#imports"
   ]
  }
 ],
 "metadata": {
  "kernelspec": {
   "display_name": "cdp-gis",
   "language": "python",
   "name": "python3"
  },
  "language_info": {
   "codemirror_mode": {
    "name": "ipython",
    "version": 3
   },
   "file_extension": ".py",
   "mimetype": "text/x-python",
   "name": "python",
   "nbconvert_exporter": "python",
   "pygments_lexer": "ipython3",
   "version": "3.12.11"
  }
 },
 "nbformat": 4,
 "nbformat_minor": 2
}
